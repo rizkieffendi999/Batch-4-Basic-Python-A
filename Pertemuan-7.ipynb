{
 "cells": [
  {
   "cell_type": "markdown",
   "id": "partial-intention",
   "metadata": {},
   "source": [
    "# Camelcase"
   ]
  },
  {
   "cell_type": "code",
   "execution_count": 2,
   "id": "abandoned-louisiana",
   "metadata": {},
   "outputs": [
    {
     "name": "stdout",
     "output_type": "stream",
     "text": [
      "Halo Apa Kabar\n"
     ]
    }
   ],
   "source": [
    "import camelcase\n",
    "d = camelcase.CamelCase()\n",
    "txt = \"halo apa kabar\"\n",
    "print(d.hump(txt))"
   ]
  },
  {
   "cell_type": "markdown",
   "id": "downtown-mexican",
   "metadata": {},
   "source": [
    "# Tuple"
   ]
  },
  {
   "cell_type": "code",
   "execution_count": 7,
   "id": "labeled-quebec",
   "metadata": {},
   "outputs": [
    {
     "name": "stdout",
     "output_type": "stream",
     "text": [
      "('apel', 'mangga', 'jeruk')\n",
      "<class 'tuple'>\n"
     ]
    }
   ],
   "source": [
    "my_tuple = (\"apel\", \"mangga\", \"jeruk\")\n",
    "print(my_tuple)\n",
    "print(type(my_tuple))"
   ]
  },
  {
   "cell_type": "code",
   "execution_count": 4,
   "id": "informative-witch",
   "metadata": {},
   "outputs": [
    {
     "name": "stdout",
     "output_type": "stream",
     "text": [
      "mangga\n"
     ]
    }
   ],
   "source": [
    "print(my_tuple[1])"
   ]
  },
  {
   "cell_type": "code",
   "execution_count": 5,
   "id": "front-finger",
   "metadata": {},
   "outputs": [
    {
     "ename": "TypeError",
     "evalue": "'tuple' object does not support item assignment",
     "output_type": "error",
     "traceback": [
      "\u001b[1;31m---------------------------------------------------------------------------\u001b[0m",
      "\u001b[1;31mTypeError\u001b[0m                                 Traceback (most recent call last)",
      "\u001b[1;32m<ipython-input-5-b99e9f58704b>\u001b[0m in \u001b[0;36m<module>\u001b[1;34m\u001b[0m\n\u001b[1;32m----> 1\u001b[1;33m \u001b[0mmy_tuple\u001b[0m\u001b[1;33m[\u001b[0m\u001b[1;36m2\u001b[0m\u001b[1;33m]\u001b[0m \u001b[1;33m=\u001b[0m \u001b[1;34m\"melon\"\u001b[0m\u001b[1;33m\u001b[0m\u001b[1;33m\u001b[0m\u001b[0m\n\u001b[0m\u001b[0;32m      2\u001b[0m \u001b[0mprint\u001b[0m\u001b[1;33m(\u001b[0m\u001b[0mmy_tuple\u001b[0m\u001b[1;33m)\u001b[0m\u001b[1;33m\u001b[0m\u001b[1;33m\u001b[0m\u001b[0m\n",
      "\u001b[1;31mTypeError\u001b[0m: 'tuple' object does not support item assignment"
     ]
    }
   ],
   "source": [
    "my_tuple[2] = \"melon\"\n",
    "print(my_tuple)"
   ]
  },
  {
   "cell_type": "markdown",
   "id": "gentle-talent",
   "metadata": {},
   "source": [
    "# Sets"
   ]
  },
  {
   "cell_type": "code",
   "execution_count": 6,
   "id": "liked-telephone",
   "metadata": {},
   "outputs": [
    {
     "name": "stdout",
     "output_type": "stream",
     "text": [
      "{'apel', 'jeruk', 'mangga'}\n",
      "<class 'set'>\n"
     ]
    }
   ],
   "source": [
    "my_sets = {\"apel\", \"mangga\", \"jeruk\"}\n",
    "print(my_sets)\n",
    "print(type(my_sets))"
   ]
  },
  {
   "cell_type": "code",
   "execution_count": 8,
   "id": "existing-knife",
   "metadata": {},
   "outputs": [
    {
     "name": "stdout",
     "output_type": "stream",
     "text": [
      "apel\n",
      "jeruk\n",
      "mangga\n"
     ]
    }
   ],
   "source": [
    "for x in my_sets:\n",
    "    print(x)"
   ]
  },
  {
   "cell_type": "code",
   "execution_count": 9,
   "id": "brazilian-thriller",
   "metadata": {},
   "outputs": [
    {
     "name": "stdout",
     "output_type": "stream",
     "text": [
      "{'melon', 'apel', 'jeruk', 'mangga'}\n"
     ]
    }
   ],
   "source": [
    "my_sets.add(\"melon\")\n",
    "print(my_sets)"
   ]
  },
  {
   "cell_type": "code",
   "execution_count": 10,
   "id": "virtual-director",
   "metadata": {},
   "outputs": [
    {
     "name": "stdout",
     "output_type": "stream",
     "text": [
      "{'apel', 'jeruk', 'mangga'}\n"
     ]
    }
   ],
   "source": [
    "my_sets.remove(\"melon\")\n",
    "print(my_sets)"
   ]
  },
  {
   "cell_type": "markdown",
   "id": "sealed-estate",
   "metadata": {},
   "source": [
    "# Scope"
   ]
  },
  {
   "cell_type": "code",
   "execution_count": 14,
   "id": "understanding-mustang",
   "metadata": {},
   "outputs": [
    {
     "name": "stdout",
     "output_type": "stream",
     "text": [
      "200\n",
      "300\n"
     ]
    }
   ],
   "source": [
    "i=300\n",
    "\n",
    "def my_func():\n",
    "    i = 200\n",
    "    print(i)\n",
    "    \n",
    "my_func()\n",
    "print(i)"
   ]
  },
  {
   "cell_type": "code",
   "execution_count": 12,
   "id": "dominican-bathroom",
   "metadata": {},
   "outputs": [
    {
     "name": "stdout",
     "output_type": "stream",
     "text": [
      "500\n"
     ]
    }
   ],
   "source": [
    "i = 500\n",
    "print(i)"
   ]
  },
  {
   "cell_type": "markdown",
   "id": "surprised-matrix",
   "metadata": {},
   "source": [
    "# Tambahan"
   ]
  },
  {
   "cell_type": "markdown",
   "id": "looking-repair",
   "metadata": {},
   "source": [
    "## Slicing list"
   ]
  },
  {
   "cell_type": "code",
   "execution_count": 20,
   "id": "democratic-rochester",
   "metadata": {},
   "outputs": [
    {
     "data": {
      "text/plain": [
       "['13b', 'aa1', 1.3, 22.5, 2.3]"
      ]
     },
     "execution_count": 20,
     "metadata": {},
     "output_type": "execute_result"
    }
   ],
   "source": [
    "a = [\"1\",\"13b\",\"aa1\", 1.3, 22.5, 2.3]\n",
    "a[1:6]"
   ]
  },
  {
   "cell_type": "code",
   "execution_count": 21,
   "id": "optional-aging",
   "metadata": {},
   "outputs": [
    {
     "name": "stdout",
     "output_type": "stream",
     "text": [
      "['13b', 'aa1', 1.3, 22.5, 2.3]\n"
     ]
    }
   ],
   "source": [
    "print(a[1:6])"
   ]
  },
  {
   "cell_type": "code",
   "execution_count": 22,
   "id": "american-village",
   "metadata": {},
   "outputs": [
    {
     "data": {
      "text/plain": [
       "['aa1', 1.3, 22.5, 2.3]"
      ]
     },
     "execution_count": 22,
     "metadata": {},
     "output_type": "execute_result"
    }
   ],
   "source": [
    "a[2:6]"
   ]
  },
  {
   "cell_type": "code",
   "execution_count": 23,
   "id": "computational-exercise",
   "metadata": {},
   "outputs": [
    {
     "data": {
      "text/plain": [
       "['aa1', 1.3, 22.5]"
      ]
     },
     "execution_count": 23,
     "metadata": {},
     "output_type": "execute_result"
    }
   ],
   "source": [
    "a[2:5]"
   ]
  },
  {
   "cell_type": "markdown",
   "id": "stopped-gamma",
   "metadata": {},
   "source": [
    "## Nested list"
   ]
  },
  {
   "cell_type": "code",
   "execution_count": 26,
   "id": "maritime-patent",
   "metadata": {},
   "outputs": [
    {
     "data": {
      "text/plain": [
       "[[1.3, 22.5, 2.3], ['1', '13b', 'aa1'], [3, 40, 100]]"
      ]
     },
     "execution_count": 26,
     "metadata": {},
     "output_type": "execute_result"
    }
   ],
   "source": [
    "b = [1.3, 22.5, 2.3]\n",
    "c = [\"1\",\"13b\",\"aa1\"]\n",
    "d = [3, 40, 100]\n",
    "\n",
    "#combine list\n",
    "e = [b,c,d]\n",
    "e"
   ]
  },
  {
   "cell_type": "code",
   "execution_count": 25,
   "id": "coordinate-lewis",
   "metadata": {},
   "outputs": [
    {
     "name": "stdout",
     "output_type": "stream",
     "text": [
      "[[1.3, 22.5, 2.3], ['1', '13b', 'aa1'], [3, 40, 100]]\n"
     ]
    }
   ],
   "source": [
    "print(e)"
   ]
  },
  {
   "cell_type": "markdown",
   "id": "amateur-healing",
   "metadata": {},
   "source": [
    "## Sort"
   ]
  },
  {
   "cell_type": "markdown",
   "id": "worldwide-dealing",
   "metadata": {},
   "source": [
    "### List"
   ]
  },
  {
   "cell_type": "code",
   "execution_count": 27,
   "id": "laughing-assets",
   "metadata": {},
   "outputs": [
    {
     "name": "stdout",
     "output_type": "stream",
     "text": [
      "[10, 9, 5, 4, 2, 1, 0]\n",
      "[0, 1, 2, 4, 5, 9, 10]\n",
      "[0, 5, 1, 2, 10, 4, 9]\n"
     ]
    }
   ],
   "source": [
    "f = [0, 5, 1, 2, 10, 4, 9]\n",
    "print(sorted(f, reverse=True))\n",
    "print(sorted(f, reverse=False))\n",
    "print(f)"
   ]
  },
  {
   "cell_type": "markdown",
   "id": "conscious-involvement",
   "metadata": {},
   "source": [
    "### Tuple"
   ]
  },
  {
   "cell_type": "code",
   "execution_count": 28,
   "id": "precise-diabetes",
   "metadata": {},
   "outputs": [
    {
     "name": "stdout",
     "output_type": "stream",
     "text": [
      "[10, 9, 5, 4, 2, 1, 0]\n",
      "[0, 1, 2, 4, 5, 9, 10]\n",
      "(0, 5, 1, 2, 10, 4, 9)\n"
     ]
    }
   ],
   "source": [
    "p = (0, 5, 1, 2, 10, 4, 9)\n",
    "print(sorted(p, reverse=True))\n",
    "print(sorted(p, reverse=False))\n",
    "print(p)"
   ]
  },
  {
   "cell_type": "markdown",
   "id": "exciting-result",
   "metadata": {},
   "source": [
    "### Sets"
   ]
  },
  {
   "cell_type": "code",
   "execution_count": 30,
   "id": "suspected-favorite",
   "metadata": {},
   "outputs": [
    {
     "name": "stdout",
     "output_type": "stream",
     "text": [
      "[10, 9, 5, 4, 2, 1, 0]\n",
      "[0, 1, 2, 4, 5, 9, 10]\n",
      "{0, 1, 2, 4, 5, 9, 10}\n"
     ]
    }
   ],
   "source": [
    "q = {0, 5, 1, 2, 10, 4, 9}\n",
    "print(sorted(q, reverse=True))\n",
    "print(sorted(q, reverse=False))\n",
    "print(q)"
   ]
  },
  {
   "cell_type": "markdown",
   "id": "packed-insurance",
   "metadata": {},
   "source": [
    "## List operation"
   ]
  },
  {
   "cell_type": "code",
   "execution_count": 31,
   "id": "acting-inspector",
   "metadata": {},
   "outputs": [
    {
     "data": {
      "text/plain": [
       "[1, 2, 3, 5, 6, 7]"
      ]
     },
     "execution_count": 31,
     "metadata": {},
     "output_type": "execute_result"
    }
   ],
   "source": [
    "g = [1,2,3]\n",
    "h = [5,6,7]\n",
    "\n",
    "g + h"
   ]
  },
  {
   "cell_type": "code",
   "execution_count": 32,
   "id": "exciting-university",
   "metadata": {},
   "outputs": [
    {
     "name": "stdout",
     "output_type": "stream",
     "text": [
      "[1, 2, 3, 5, 6, 7]\n"
     ]
    }
   ],
   "source": [
    "print (g+h)"
   ]
  },
  {
   "cell_type": "markdown",
   "id": "divided-myanmar",
   "metadata": {},
   "source": [
    "## List manipulation"
   ]
  },
  {
   "cell_type": "code",
   "execution_count": 33,
   "id": "artificial-failure",
   "metadata": {},
   "outputs": [
    {
     "name": "stdout",
     "output_type": "stream",
     "text": [
      "[[5, 9, 10], [11, 0, 6]]\n"
     ]
    }
   ],
   "source": [
    "i = [\n",
    "    [5,9,8],\n",
    "    [0,0,6]\n",
    "    ]\n",
    "\n",
    "i[0][2] = 10\n",
    "i[1][0] = 11\n",
    "print(i)\n"
   ]
  },
  {
   "cell_type": "markdown",
   "id": "adequate-steering",
   "metadata": {},
   "source": [
    "## List comprehension"
   ]
  },
  {
   "cell_type": "code",
   "execution_count": 36,
   "id": "nonprofit-register",
   "metadata": {},
   "outputs": [
    {
     "name": "stdout",
     "output_type": "stream",
     "text": [
      "[0, 1, 4, 9, 10, 16, 19, 25, 36, 40, 49, 60, 80, 91]\n",
      "[0, 4, 10, 16, 36, 40, 60, 80]\n"
     ]
    },
    {
     "data": {
      "text/plain": [
       "[0, 4, 10, 16, 36, 40, 60, 80]"
      ]
     },
     "execution_count": 36,
     "metadata": {},
     "output_type": "execute_result"
    }
   ],
   "source": [
    "s = [0,1,4,9,10,16,19,25,36,40,49,60,80,91]\n",
    "\n",
    "t = [z for z in s if z%2==0]\n",
    "\n",
    "print(s)\n",
    "print(t)\n",
    "t"
   ]
  },
  {
   "cell_type": "markdown",
   "id": "recent-great",
   "metadata": {},
   "source": [
    "## Nested dictionary"
   ]
  },
  {
   "cell_type": "code",
   "execution_count": 37,
   "id": "flush-applicant",
   "metadata": {},
   "outputs": [
    {
     "name": "stdout",
     "output_type": "stream",
     "text": [
      "80\n"
     ]
    }
   ],
   "source": [
    "negara = {\n",
    "          \"spanyol\":{\"ibukota\":\"madrid\",\"populasi\": 46},\n",
    "          \"perancis\":{\"ibukota\":\"paris\",\"populasi\": 66},\n",
    "          \"jerman\":{\"ibukota\":\"berlin\",\"populasi\": 80},\n",
    "          \"inggris\":{\"ibukota\":\"london\",\"populasi\": 50}\n",
    "        }\n",
    "\n",
    "#berapa populasi dari ibukota jerman?\n",
    "print(negara[\"jerman\"][\"populasi\"])\n"
   ]
  },
  {
   "cell_type": "code",
   "execution_count": 38,
   "id": "frozen-morocco",
   "metadata": {},
   "outputs": [
    {
     "name": "stdout",
     "output_type": "stream",
     "text": [
      "berlin\n"
     ]
    }
   ],
   "source": [
    "#nama ibukota jerman\n",
    "print(negara[\"jerman\"][\"ibukota\"])"
   ]
  },
  {
   "cell_type": "code",
   "execution_count": 39,
   "id": "earlier-allocation",
   "metadata": {},
   "outputs": [
    {
     "name": "stdout",
     "output_type": "stream",
     "text": [
      "{'spanyol': {'ibukota': 'madrid', 'populasi': 46}, 'perancis': {'ibukota': 'paris', 'populasi': 66}, 'jerman': {'ibukota': 'berlin', 'populasi': 80}, 'inggris': {'ibukota': 'london', 'populasi': 50}, 'indonesia': {'ibukota': 'jakarta', 'populasi': 270}}\n"
     ]
    }
   ],
   "source": [
    "#update data baru\n",
    "negara[\"indonesia\"] = {\"ibukota\":\"jakarta\",\"populasi\": 270}\n",
    "\n",
    "print(negara)"
   ]
  },
  {
   "cell_type": "markdown",
   "id": "cleared-grain",
   "metadata": {},
   "source": [
    "## Loop nested dictionary"
   ]
  },
  {
   "cell_type": "code",
   "execution_count": 40,
   "id": "prepared-router",
   "metadata": {},
   "outputs": [
    {
     "name": "stdout",
     "output_type": "stream",
     "text": [
      "ibukota spanyol adalah madrid\n",
      "ibukota perancis adalah paris\n",
      "ibukota jerman adalah berlin\n",
      "ibukota inggris adalah london\n",
      "ibukota indonesia adalah jakarta\n"
     ]
    }
   ],
   "source": [
    "negara = {\n",
    "          \"spanyol\":{\"ibukota\":\"madrid\",\"populasi\": 46},\n",
    "          \"perancis\":{\"ibukota\":\"paris\",\"populasi\": 66},\n",
    "          \"jerman\":{\"ibukota\":\"berlin\",\"populasi\": 80},\n",
    "          \"inggris\":{\"ibukota\":\"london\",\"populasi\": 50},\n",
    "          \"indonesia\":{\"ibukota\":\"jakarta\",\"populasi\": 270}\n",
    "        }\n",
    "\n",
    "for y, v in negara.items():\n",
    "    print(\"ibukota\", y, \"adalah\", v[\"ibukota\"])"
   ]
  },
  {
   "cell_type": "code",
   "execution_count": 41,
   "id": "elect-delay",
   "metadata": {},
   "outputs": [
    {
     "ename": "TypeError",
     "evalue": "'dict' object is not callable",
     "output_type": "error",
     "traceback": [
      "\u001b[1;31m---------------------------------------------------------------------------\u001b[0m",
      "\u001b[1;31mTypeError\u001b[0m                                 Traceback (most recent call last)",
      "\u001b[1;32m<ipython-input-41-f6f4fd552639>\u001b[0m in \u001b[0;36m<module>\u001b[1;34m\u001b[0m\n\u001b[1;32m----> 1\u001b[1;33m \u001b[1;32mfor\u001b[0m \u001b[0my\u001b[0m\u001b[1;33m,\u001b[0m \u001b[0mv\u001b[0m \u001b[1;32min\u001b[0m \u001b[0mnegara\u001b[0m\u001b[1;33m(\u001b[0m\u001b[1;33m)\u001b[0m\u001b[1;33m:\u001b[0m\u001b[1;33m\u001b[0m\u001b[1;33m\u001b[0m\u001b[0m\n\u001b[0m\u001b[0;32m      2\u001b[0m     \u001b[0mprint\u001b[0m\u001b[1;33m(\u001b[0m\u001b[1;34m\"ibukota\"\u001b[0m\u001b[1;33m,\u001b[0m \u001b[0my\u001b[0m\u001b[1;33m,\u001b[0m \u001b[1;34m\"adalah\"\u001b[0m\u001b[1;33m,\u001b[0m \u001b[0mv\u001b[0m\u001b[1;33m[\u001b[0m\u001b[1;34m\"ibukota\"\u001b[0m\u001b[1;33m]\u001b[0m\u001b[1;33m)\u001b[0m\u001b[1;33m\u001b[0m\u001b[1;33m\u001b[0m\u001b[0m\n",
      "\u001b[1;31mTypeError\u001b[0m: 'dict' object is not callable"
     ]
    }
   ],
   "source": [
    "for y, v in negara():\n",
    "    print(\"ibukota\", y, \"adalah\", v[\"ibukota\"])"
   ]
  }
 ],
 "metadata": {
  "kernelspec": {
   "display_name": "Python 3",
   "language": "python",
   "name": "python3"
  },
  "language_info": {
   "codemirror_mode": {
    "name": "ipython",
    "version": 3
   },
   "file_extension": ".py",
   "mimetype": "text/x-python",
   "name": "python",
   "nbconvert_exporter": "python",
   "pygments_lexer": "ipython3",
   "version": "3.8.3"
  }
 },
 "nbformat": 4,
 "nbformat_minor": 5
}
